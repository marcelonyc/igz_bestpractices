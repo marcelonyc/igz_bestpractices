{
 "cells": [
  {
   "cell_type": "code",
   "execution_count": 3,
   "metadata": {},
   "outputs": [],
   "source": [
    "# nuclio: ignore\n",
    "# if the nuclio-jupyter package is not installed run !pip install nuclio-jupyter\n",
    "import nuclio "
   ]
  },
  {
   "cell_type": "code",
   "execution_count": 10,
   "metadata": {},
   "outputs": [],
   "source": [
    "%nuclio env -c V3IO_USERNAME=${V3IO_USERNAME}\n",
    "%nuclio env -c V3IO_ACCESS_KEY=${V3IO_ACCESS_KEY}"
   ]
  },
  {
   "cell_type": "code",
   "execution_count": 10,
   "metadata": {},
   "outputs": [
    {
     "name": "stdout",
     "output_type": "stream",
     "text": [
      "mounting volume path /v3io as /v3io/users\n"
     ]
    }
   ],
   "source": [
    "# MOunt the Iguazio file system\n",
    "%nuclio mount /v3io /users/"
   ]
  },
  {
   "cell_type": "code",
   "execution_count": 11,
   "metadata": {},
   "outputs": [],
   "source": [
    "# Specs\n",
    "## Run from cron every 12h\n",
    "#%nuclio config spec.triggers.secs.kind = \"cron\"\n",
    "#%nuclio config spec.triggers.secs.attributes.interval = \"12h\""
   ]
  },
  {
   "cell_type": "code",
   "execution_count": 12,
   "metadata": {},
   "outputs": [],
   "source": [
    "# Nuclio functions\n",
    "import os, subprocess\n",
    "\n",
    "def handler(context, event):\n",
    "    context.logger.info('This is an portable template example! ')\n",
    "  \n",
    "\n",
    "    # debug print the text before and after correction\n",
    "    context.logger.info_with(\"I am \"+ os.getenv('V3IO_USERNAME',\"NONE\") )\n",
    "    USER = os.getenv('V3IO_USERNAME',\"NONE\")\n",
    "    runit = subprocess.run(['touch','/v3io/users/'+ USER +'/newfile'],stdout=subprocess.PIPE,stderr=subprocess.PIPE)\n",
    "    \n",
    "    context.logger.info_with(\"STDOUT \"+ runit.stdout.decode('utf-8').replace(\",\",''))\n",
    "    context.logger.info_with(\"STDERR \"+ runit.stderr.decode('utf-8').replace(\",\",''))\n",
    "    \n",
    "\n",
    "    # read target language from environment and return translated text\n",
    "    return ''"
   ]
  },
  {
   "cell_type": "code",
   "execution_count": 13,
   "metadata": {},
   "outputs": [
    {
     "name": "stdout",
     "output_type": "stream",
     "text": [
      "Python> 2019-09-19 19:00:35,566 [info] This is an portable template example! \n",
      "Python> 2019-09-19 19:00:35,567 [info] I am admin\n",
      "Python> 2019-09-19 19:00:35,577 [info] STDOUT \n",
      "Python> 2019-09-19 19:00:35,578 [info] STDERR \n"
     ]
    },
    {
     "data": {
      "text/plain": [
       "''"
      ]
     },
     "execution_count": 13,
     "metadata": {},
     "output_type": "execute_result"
    }
   ],
   "source": [
    "# nuclio: ignore\n",
    "# Test the function\n",
    "event = nuclio.Event(body=b'good morninng')\n",
    "handler(context, event)"
   ]
  },
  {
   "cell_type": "markdown",
   "metadata": {},
   "source": [
    "### Before deploying the function\n",
    "Open up the Jupyter shell and run the following <br>\n",
    "pip install --upgrade nuclio-jupyter"
   ]
  },
  {
   "cell_type": "code",
   "execution_count": 4,
   "metadata": {},
   "outputs": [
    {
     "name": "stdout",
     "output_type": "stream",
     "text": [
      "[nuclio.deploy] 2019-09-20 12:34:50,441 (info) Building processor image\n",
      "[nuclio.deploy] 2019-09-20 12:34:56,493 (info) Pushing image\n",
      "[nuclio.deploy] 2019-09-20 12:34:57,504 (info) Build complete\n",
      "[nuclio.deploy] 2019-09-20 12:35:02,550 (info) Function deploy complete\n",
      "[nuclio.deploy] 2019-09-20 12:35:02,556 done updating nlp, function address: 3.15.226.15:32007\n",
      "%nuclio: function deployed\n"
     ]
    }
   ],
   "source": [
    "# nuclio: ignore\n",
    "%nuclio deploy -n nlp -p ai -c"
   ]
  },
  {
   "cell_type": "raw",
   "metadata": {},
   "source": [
    "# nuclio: ignore\n",
    "# Run a test with the new function. Replace the \"function URL\" with the actual URL:Port\n",
    "!curl -X POST -d \"good evening\" <URL:Port>"
   ]
  }
 ],
 "metadata": {
  "kernelspec": {
   "display_name": "Python 3",
   "language": "python",
   "name": "python3"
  },
  "language_info": {
   "codemirror_mode": {
    "name": "ipython",
    "version": 3
   },
   "file_extension": ".py",
   "mimetype": "text/x-python",
   "name": "python",
   "nbconvert_exporter": "python",
   "pygments_lexer": "ipython3",
   "version": "3.6.8"
  }
 },
 "nbformat": 4,
 "nbformat_minor": 2
}
