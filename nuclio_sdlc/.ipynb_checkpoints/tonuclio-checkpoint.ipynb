{
 "cells": [
  {
   "cell_type": "markdown",
   "metadata": {},
   "source": [
    "# Sample script to deploy nuclio function from python\n",
    "* Arg 1: Jupyter Notebook (ipynb extension)\n",
    "* Arg 2: Project name\n",
    "\n",
    "## Convert this notebook to python script\n",
    "### From a Jupyter notebook terminal \n",
    "    * Update nuclio-jupyter\n",
    "    **pip install  --upgrade nuclio-jupyter\n",
    "    * Convert script\n",
    "    **/conda/bin/jupyter nbconvert --to python tonuclio.ipynb\n",
    "\n",
    "    \n"
   ]
  },
  {
   "cell_type": "code",
   "execution_count": null,
   "metadata": {},
   "outputs": [],
   "source": [
    "import nuclio,requests\n",
    "import sys"
   ]
  },
  {
   "cell_type": "code",
   "execution_count": null,
   "metadata": {},
   "outputs": [],
   "source": [
    "addr = nuclio.deploy_file(sys.argv[1],project=sys.argv[2])\n",
    "resp = requests.get('http://' + addr)"
   ]
  },
  {
   "cell_type": "code",
   "execution_count": null,
   "metadata": {},
   "outputs": [],
   "source": []
  }
 ],
 "metadata": {
  "kernelspec": {
   "display_name": "Python 3",
   "language": "python",
   "name": "python3"
  },
  "language_info": {
   "codemirror_mode": {
    "name": "ipython",
    "version": 3
   },
   "file_extension": ".py",
   "mimetype": "text/x-python",
   "name": "python",
   "nbconvert_exporter": "python",
   "pygments_lexer": "ipython3",
   "version": "3.6.8"
  }
 },
 "nbformat": 4,
 "nbformat_minor": 2
}
